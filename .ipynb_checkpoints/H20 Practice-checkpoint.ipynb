{
 "cells": [
  {
   "cell_type": "code",
   "execution_count": 52,
   "metadata": {},
   "outputs": [],
   "source": [
    "import h2o\n",
    "import pandas as pd\n",
    "import numpy as np\n",
    "import matplotlib.pyplot as plt\n",
    "#import sklearn.datasets as data\n",
    "from sklearn.datasets import load_iris\n",
    "import tempfile\n",
    "%matplotlib inline"
   ]
  },
  {
   "cell_type": "code",
   "execution_count": 61,
   "metadata": {},
   "outputs": [],
   "source": [
    "data=load_iris()"
   ]
  },
  {
   "cell_type": "code",
   "execution_count": 85,
   "metadata": {},
   "outputs": [
    {
     "data": {
      "text/plain": [
       "2    50\n",
       "1    50\n",
       "0    50\n",
       "Name: Target, dtype: int64"
      ]
     },
     "execution_count": 85,
     "metadata": {},
     "output_type": "execute_result"
    }
   ],
   "source": [
    "#X=data.data\n",
    "#Y=data.target\n",
    "#data=pd.DataFrame(X,columns=data.feature_names)\n",
    "#print data.head(10)\n",
    "X_frame=pd.DataFrame(data.data,columns=data.feature_names)\n",
    "Y_frame=pd.DataFrame(data.target,columns=['Target'])\n",
    "data_frame1=pd.concat([X_frame,Y_frame],axis=1)\n",
    "Y_frame.shape,X_frame.shape\n",
    "data_frame1['Target'].value_counts()"
   ]
  },
  {
   "cell_type": "code",
   "execution_count": 112,
   "metadata": {},
   "outputs": [],
   "source": [
    "Y_frame['Target1']= Y_frame['Target'].apply(lambda x: 1 if x==0 else 0)\n",
    "data_frame2=pd.concat([X_frame,Y_frame[['Target1']]],axis=1)"
   ]
  },
  {
   "cell_type": "code",
   "execution_count": 33,
   "metadata": {},
   "outputs": [
    {
     "name": "stdout",
     "output_type": "stream",
     "text": [
      "Checking whether there is an H2O instance running at http://localhost:54321..... not found.\n",
      "Attempting to start a local H2O server...\n",
      "  Java Version: openjdk version \"1.8.0_121\"; OpenJDK Runtime Environment (Zulu 8.20.0.5-macosx) (build 1.8.0_121-b15); OpenJDK 64-Bit Server VM (Zulu 8.20.0.5-macosx) (build 25.121-b15, mixed mode)\n",
      "  Starting server from /Users/kodamsri/anaconda2/lib/python2.7/site-packages/h2o/backend/bin/h2o.jar\n",
      "  Ice root: /var/folders/f2/psmyryd97wl_zxyhbm5x7p5dr_v6lv/T/tmpPNlP3t\n",
      "  JVM stdout: /var/folders/f2/psmyryd97wl_zxyhbm5x7p5dr_v6lv/T/tmpPNlP3t/h2o_kodamsri_started_from_python.out\n",
      "  JVM stderr: /var/folders/f2/psmyryd97wl_zxyhbm5x7p5dr_v6lv/T/tmpPNlP3t/h2o_kodamsri_started_from_python.err\n",
      "  Server is running at http://127.0.0.1:54321\n",
      "Connecting to H2O server at http://127.0.0.1:54321... successful.\n",
      "Warning: Your H2O cluster version is too old (1 year, 4 months and 12 days)! Please download and install the latest version from http://h2o.ai/download/\n"
     ]
    },
    {
     "data": {
      "text/html": [
       "<div style=\"overflow:auto\"><table style=\"width:50%\"><tr><td>H2O cluster uptime:</td>\n",
       "<td>02 secs</td></tr>\n",
       "<tr><td>H2O cluster version:</td>\n",
       "<td>3.14.0.1</td></tr>\n",
       "<tr><td>H2O cluster version age:</td>\n",
       "<td>1 year, 4 months and 12 days !!!</td></tr>\n",
       "<tr><td>H2O cluster name:</td>\n",
       "<td>H2O_from_python_kodamsri_w5m92i</td></tr>\n",
       "<tr><td>H2O cluster total nodes:</td>\n",
       "<td>1</td></tr>\n",
       "<tr><td>H2O cluster free memory:</td>\n",
       "<td>3.556 Gb</td></tr>\n",
       "<tr><td>H2O cluster total cores:</td>\n",
       "<td>8</td></tr>\n",
       "<tr><td>H2O cluster allowed cores:</td>\n",
       "<td>8</td></tr>\n",
       "<tr><td>H2O cluster status:</td>\n",
       "<td>accepting new members, healthy</td></tr>\n",
       "<tr><td>H2O connection url:</td>\n",
       "<td>http://127.0.0.1:54321</td></tr>\n",
       "<tr><td>H2O connection proxy:</td>\n",
       "<td>None</td></tr>\n",
       "<tr><td>H2O internal security:</td>\n",
       "<td>False</td></tr>\n",
       "<tr><td>H2O API Extensions:</td>\n",
       "<td>XGBoost, Algos, AutoML, Core V3, Core V4</td></tr>\n",
       "<tr><td>Python version:</td>\n",
       "<td>2.7.15 final</td></tr></table></div>"
      ],
      "text/plain": [
       "--------------------------  ----------------------------------------\n",
       "H2O cluster uptime:         02 secs\n",
       "H2O cluster version:        3.14.0.1\n",
       "H2O cluster version age:    1 year, 4 months and 12 days !!!\n",
       "H2O cluster name:           H2O_from_python_kodamsri_w5m92i\n",
       "H2O cluster total nodes:    1\n",
       "H2O cluster free memory:    3.556 Gb\n",
       "H2O cluster total cores:    8\n",
       "H2O cluster allowed cores:  8\n",
       "H2O cluster status:         accepting new members, healthy\n",
       "H2O connection url:         http://127.0.0.1:54321\n",
       "H2O connection proxy:\n",
       "H2O internal security:      False\n",
       "H2O API Extensions:         XGBoost, Algos, AutoML, Core V3, Core V4\n",
       "Python version:             2.7.15 final\n",
       "--------------------------  ----------------------------------------"
      ]
     },
     "metadata": {},
     "output_type": "display_data"
    }
   ],
   "source": [
    "h2o.init()"
   ]
  },
  {
   "cell_type": "code",
   "execution_count": 113,
   "metadata": {},
   "outputs": [
    {
     "name": "stdout",
     "output_type": "stream",
     "text": [
      "Parse progress: |█████████████████████████████████████████████████████████| 100%\n"
     ]
    },
    {
     "data": {
      "text/html": [
       "<table>\n",
       "<thead>\n",
       "<tr><th>       </th><th>sepal length (cm)  </th><th>sepal width (cm)  </th><th>petal length (cm)  </th><th>petal width (cm)  </th><th>Target1       </th></tr>\n",
       "</thead>\n",
       "<tbody>\n",
       "<tr><td>type   </td><td>real               </td><td>real              </td><td>real               </td><td>real              </td><td>int           </td></tr>\n",
       "<tr><td>mins   </td><td>4.3                </td><td>2.0               </td><td>1.0                </td><td>0.1               </td><td>0.0           </td></tr>\n",
       "<tr><td>mean   </td><td>5.84333333333      </td><td>3.054             </td><td>3.75866666667      </td><td>1.19866666667     </td><td>0.333333333333</td></tr>\n",
       "<tr><td>maxs   </td><td>7.9                </td><td>4.4               </td><td>6.9                </td><td>2.5               </td><td>1.0           </td></tr>\n",
       "<tr><td>sigma  </td><td>0.828066127978     </td><td>0.433594311362    </td><td>1.76442041995      </td><td>0.763160741701    </td><td>0.47298376984 </td></tr>\n",
       "<tr><td>zeros  </td><td>0                  </td><td>0                 </td><td>0                  </td><td>0                 </td><td>100           </td></tr>\n",
       "<tr><td>missing</td><td>0                  </td><td>0                 </td><td>0                  </td><td>0                 </td><td>0             </td></tr>\n",
       "<tr><td>0      </td><td>5.1                </td><td>3.5               </td><td>1.4                </td><td>0.2               </td><td>1.0           </td></tr>\n",
       "<tr><td>1      </td><td>4.9                </td><td>3.0               </td><td>1.4                </td><td>0.2               </td><td>1.0           </td></tr>\n",
       "<tr><td>2      </td><td>4.7                </td><td>3.2               </td><td>1.3                </td><td>0.2               </td><td>1.0           </td></tr>\n",
       "<tr><td>3      </td><td>4.6                </td><td>3.1               </td><td>1.5                </td><td>0.2               </td><td>1.0           </td></tr>\n",
       "<tr><td>4      </td><td>5.0                </td><td>3.6               </td><td>1.4                </td><td>0.2               </td><td>1.0           </td></tr>\n",
       "<tr><td>5      </td><td>5.4                </td><td>3.9               </td><td>1.7                </td><td>0.4               </td><td>1.0           </td></tr>\n",
       "<tr><td>6      </td><td>4.6                </td><td>3.4               </td><td>1.4                </td><td>0.3               </td><td>1.0           </td></tr>\n",
       "<tr><td>7      </td><td>5.0                </td><td>3.4               </td><td>1.5                </td><td>0.2               </td><td>1.0           </td></tr>\n",
       "<tr><td>8      </td><td>4.4                </td><td>2.9               </td><td>1.4                </td><td>0.2               </td><td>1.0           </td></tr>\n",
       "<tr><td>9      </td><td>4.9                </td><td>3.1               </td><td>1.5                </td><td>0.1               </td><td>1.0           </td></tr>\n",
       "</tbody>\n",
       "</table>"
      ]
     },
     "metadata": {},
     "output_type": "display_data"
    }
   ],
   "source": [
    "h2oframe=h2o.H2OFrame(data_frame2,destination_frame='iris')\n",
    "h2oframe.summary()"
   ]
  },
  {
   "cell_type": "code",
   "execution_count": 114,
   "metadata": {},
   "outputs": [
    {
     "data": {
      "text/html": [
       "<div>\n",
       "<style scoped>\n",
       "    .dataframe tbody tr th:only-of-type {\n",
       "        vertical-align: middle;\n",
       "    }\n",
       "\n",
       "    .dataframe tbody tr th {\n",
       "        vertical-align: top;\n",
       "    }\n",
       "\n",
       "    .dataframe thead th {\n",
       "        text-align: right;\n",
       "    }\n",
       "</style>\n",
       "<table border=\"1\" class=\"dataframe\">\n",
       "  <thead>\n",
       "    <tr style=\"text-align: right;\">\n",
       "      <th></th>\n",
       "      <th>sepal length (cm)</th>\n",
       "      <th>sepal width (cm)</th>\n",
       "      <th>petal length (cm)</th>\n",
       "      <th>petal width (cm)</th>\n",
       "      <th>Target1</th>\n",
       "    </tr>\n",
       "  </thead>\n",
       "  <tbody>\n",
       "    <tr>\n",
       "      <th>count</th>\n",
       "      <td>150.000000</td>\n",
       "      <td>150.000000</td>\n",
       "      <td>150.000000</td>\n",
       "      <td>150.000000</td>\n",
       "      <td>150.000000</td>\n",
       "    </tr>\n",
       "    <tr>\n",
       "      <th>mean</th>\n",
       "      <td>5.843333</td>\n",
       "      <td>3.054000</td>\n",
       "      <td>3.758667</td>\n",
       "      <td>1.198667</td>\n",
       "      <td>0.333333</td>\n",
       "    </tr>\n",
       "    <tr>\n",
       "      <th>std</th>\n",
       "      <td>0.828066</td>\n",
       "      <td>0.433594</td>\n",
       "      <td>1.764420</td>\n",
       "      <td>0.763161</td>\n",
       "      <td>0.472984</td>\n",
       "    </tr>\n",
       "    <tr>\n",
       "      <th>min</th>\n",
       "      <td>4.300000</td>\n",
       "      <td>2.000000</td>\n",
       "      <td>1.000000</td>\n",
       "      <td>0.100000</td>\n",
       "      <td>0.000000</td>\n",
       "    </tr>\n",
       "    <tr>\n",
       "      <th>25%</th>\n",
       "      <td>5.100000</td>\n",
       "      <td>2.800000</td>\n",
       "      <td>1.600000</td>\n",
       "      <td>0.300000</td>\n",
       "      <td>0.000000</td>\n",
       "    </tr>\n",
       "    <tr>\n",
       "      <th>50%</th>\n",
       "      <td>5.800000</td>\n",
       "      <td>3.000000</td>\n",
       "      <td>4.350000</td>\n",
       "      <td>1.300000</td>\n",
       "      <td>0.000000</td>\n",
       "    </tr>\n",
       "    <tr>\n",
       "      <th>75%</th>\n",
       "      <td>6.400000</td>\n",
       "      <td>3.300000</td>\n",
       "      <td>5.100000</td>\n",
       "      <td>1.800000</td>\n",
       "      <td>1.000000</td>\n",
       "    </tr>\n",
       "    <tr>\n",
       "      <th>max</th>\n",
       "      <td>7.900000</td>\n",
       "      <td>4.400000</td>\n",
       "      <td>6.900000</td>\n",
       "      <td>2.500000</td>\n",
       "      <td>1.000000</td>\n",
       "    </tr>\n",
       "  </tbody>\n",
       "</table>\n",
       "</div>"
      ],
      "text/plain": [
       "       sepal length (cm)  sepal width (cm)  petal length (cm)  \\\n",
       "count         150.000000        150.000000         150.000000   \n",
       "mean            5.843333          3.054000           3.758667   \n",
       "std             0.828066          0.433594           1.764420   \n",
       "min             4.300000          2.000000           1.000000   \n",
       "25%             5.100000          2.800000           1.600000   \n",
       "50%             5.800000          3.000000           4.350000   \n",
       "75%             6.400000          3.300000           5.100000   \n",
       "max             7.900000          4.400000           6.900000   \n",
       "\n",
       "       petal width (cm)     Target1  \n",
       "count        150.000000  150.000000  \n",
       "mean           1.198667    0.333333  \n",
       "std            0.763161    0.472984  \n",
       "min            0.100000    0.000000  \n",
       "25%            0.300000    0.000000  \n",
       "50%            1.300000    0.000000  \n",
       "75%            1.800000    1.000000  \n",
       "max            2.500000    1.000000  "
      ]
     },
     "execution_count": 114,
     "metadata": {},
     "output_type": "execute_result"
    }
   ],
   "source": [
    "h2oframe.as_data_frame().describe()"
   ]
  },
  {
   "cell_type": "code",
   "execution_count": 129,
   "metadata": {},
   "outputs": [],
   "source": [
    "train,valid,test=h2oframe.split_frame(ratios=[0.8,0.1],destination_frames=['iris_train','iris_valid','iris_test'],seed=200)"
   ]
  },
  {
   "cell_type": "code",
   "execution_count": 116,
   "metadata": {},
   "outputs": [
    {
     "name": "stdout",
     "output_type": "stream",
     "text": [
      "117/22/11\n"
     ]
    }
   ],
   "source": [
    "print str(train.nrows)+'/'+str(valid.nrows)+'/'+str(test.nrows)"
   ]
  },
  {
   "cell_type": "code",
   "execution_count": 119,
   "metadata": {},
   "outputs": [],
   "source": [
    "y='Target1'\n",
    "ignoreFields=[y]\n",
    "x=[i for i in train.names if i not in ignoreFields]"
   ]
  },
  {
   "cell_type": "code",
   "execution_count": 130,
   "metadata": {},
   "outputs": [
    {
     "name": "stdout",
     "output_type": "stream",
     "text": [
      "gbm Model Build progress: |███████████████████████████████████████████████| 100%\n"
     ]
    }
   ],
   "source": [
    "from h2o.estimators.gbm import H2OGradientBoostingEstimator\n",
    "model=H2OGradientBoostingEstimator(model_id='first')\n",
    "model.train(x,y,train,validation_frame=valid)"
   ]
  },
  {
   "cell_type": "code",
   "execution_count": 131,
   "metadata": {},
   "outputs": [
    {
     "name": "stdout",
     "output_type": "stream",
     "text": [
      "Model Details\n",
      "=============\n",
      "H2OGradientBoostingEstimator :  Gradient Boosting Machine\n",
      "Model Key:  first\n",
      "\n",
      "\n",
      "ModelMetricsBinomial: gbm\n",
      "** Reported on train data. **\n",
      "\n",
      "MSE: 9.35691620778e-06\n",
      "RMSE: 0.00305890768213\n",
      "LogLoss: 0.00292219919851\n",
      "Mean Per-Class Error: 0.0\n",
      "AUC: 1.0\n",
      "Gini: 1.0\n",
      "Confusion Matrix (Act/Pred) for max f1 @ threshold = 0.995807058255: \n"
     ]
    },
    {
     "data": {
      "text/html": [
       "<div style=\"overflow:auto\"><table style=\"width:50%\"><tr><td><b></b></td>\n",
       "<td><b>0</b></td>\n",
       "<td><b>1</b></td>\n",
       "<td><b>Error</b></td>\n",
       "<td><b>Rate</b></td></tr>\n",
       "<tr><td>0</td>\n",
       "<td>77.0</td>\n",
       "<td>0.0</td>\n",
       "<td>0.0</td>\n",
       "<td> (0.0/77.0)</td></tr>\n",
       "<tr><td>1</td>\n",
       "<td>0.0</td>\n",
       "<td>40.0</td>\n",
       "<td>0.0</td>\n",
       "<td> (0.0/40.0)</td></tr>\n",
       "<tr><td>Total</td>\n",
       "<td>77.0</td>\n",
       "<td>40.0</td>\n",
       "<td>0.0</td>\n",
       "<td> (0.0/117.0)</td></tr></table></div>"
      ],
      "text/plain": [
       "       0    1    Error    Rate\n",
       "-----  ---  ---  -------  -----------\n",
       "0      77   0    0        (0.0/77.0)\n",
       "1      0    40   0        (0.0/40.0)\n",
       "Total  77   40   0        (0.0/117.0)"
      ]
     },
     "metadata": {},
     "output_type": "display_data"
    },
    {
     "name": "stdout",
     "output_type": "stream",
     "text": [
      "Maximum Metrics: Maximum metrics at their respective thresholds\n",
      "\n"
     ]
    },
    {
     "data": {
      "text/html": [
       "<div style=\"overflow:auto\"><table style=\"width:50%\"><tr><td><b>metric</b></td>\n",
       "<td><b>threshold</b></td>\n",
       "<td><b>value</b></td>\n",
       "<td><b>idx</b></td></tr>\n",
       "<tr><td>max f1</td>\n",
       "<td>0.9958071</td>\n",
       "<td>1.0</td>\n",
       "<td>0.0</td></tr>\n",
       "<tr><td>max f2</td>\n",
       "<td>0.9958071</td>\n",
       "<td>1.0</td>\n",
       "<td>0.0</td></tr>\n",
       "<tr><td>max f0point5</td>\n",
       "<td>0.9958071</td>\n",
       "<td>1.0</td>\n",
       "<td>0.0</td></tr>\n",
       "<tr><td>max accuracy</td>\n",
       "<td>0.9958071</td>\n",
       "<td>1.0</td>\n",
       "<td>0.0</td></tr>\n",
       "<tr><td>max precision</td>\n",
       "<td>0.9958071</td>\n",
       "<td>1.0</td>\n",
       "<td>0.0</td></tr>\n",
       "<tr><td>max recall</td>\n",
       "<td>0.9958071</td>\n",
       "<td>1.0</td>\n",
       "<td>0.0</td></tr>\n",
       "<tr><td>max specificity</td>\n",
       "<td>0.9958071</td>\n",
       "<td>1.0</td>\n",
       "<td>0.0</td></tr>\n",
       "<tr><td>max absolute_mcc</td>\n",
       "<td>0.9958071</td>\n",
       "<td>1.0</td>\n",
       "<td>0.0</td></tr>\n",
       "<tr><td>max min_per_class_accuracy</td>\n",
       "<td>0.9958071</td>\n",
       "<td>1.0</td>\n",
       "<td>0.0</td></tr>\n",
       "<tr><td>max mean_per_class_accuracy</td>\n",
       "<td>0.9958071</td>\n",
       "<td>1.0</td>\n",
       "<td>0.0</td></tr></table></div>"
      ],
      "text/plain": [
       "metric                       threshold    value    idx\n",
       "---------------------------  -----------  -------  -----\n",
       "max f1                       0.995807     1        0\n",
       "max f2                       0.995807     1        0\n",
       "max f0point5                 0.995807     1        0\n",
       "max accuracy                 0.995807     1        0\n",
       "max precision                0.995807     1        0\n",
       "max recall                   0.995807     1        0\n",
       "max specificity              0.995807     1        0\n",
       "max absolute_mcc             0.995807     1        0\n",
       "max min_per_class_accuracy   0.995807     1        0\n",
       "max mean_per_class_accuracy  0.995807     1        0"
      ]
     },
     "metadata": {},
     "output_type": "display_data"
    },
    {
     "name": "stdout",
     "output_type": "stream",
     "text": [
      "Gains/Lift Table: Avg response rate: 34.19 %\n",
      "\n"
     ]
    },
    {
     "data": {
      "text/html": [
       "<div style=\"overflow:auto\"><table style=\"width:50%\"><tr><td><b></b></td>\n",
       "<td><b>group</b></td>\n",
       "<td><b>cumulative_data_fraction</b></td>\n",
       "<td><b>lower_threshold</b></td>\n",
       "<td><b>lift</b></td>\n",
       "<td><b>cumulative_lift</b></td>\n",
       "<td><b>response_rate</b></td>\n",
       "<td><b>cumulative_response_rate</b></td>\n",
       "<td><b>capture_rate</b></td>\n",
       "<td><b>cumulative_capture_rate</b></td>\n",
       "<td><b>gain</b></td>\n",
       "<td><b>cumulative_gain</b></td></tr>\n",
       "<tr><td></td>\n",
       "<td>1</td>\n",
       "<td>0.3418803</td>\n",
       "<td>0.9958071</td>\n",
       "<td>2.925</td>\n",
       "<td>2.925</td>\n",
       "<td>1.0</td>\n",
       "<td>1.0</td>\n",
       "<td>1.0</td>\n",
       "<td>1.0</td>\n",
       "<td>192.5</td>\n",
       "<td>192.5</td></tr>\n",
       "<tr><td></td>\n",
       "<td>2</td>\n",
       "<td>1.0</td>\n",
       "<td>0.0022549</td>\n",
       "<td>0.0</td>\n",
       "<td>1.0</td>\n",
       "<td>0.0</td>\n",
       "<td>0.3418803</td>\n",
       "<td>0.0</td>\n",
       "<td>1.0</td>\n",
       "<td>-100.0</td>\n",
       "<td>0.0</td></tr></table></div>"
      ],
      "text/plain": [
       "    group    cumulative_data_fraction    lower_threshold    lift    cumulative_lift    response_rate    cumulative_response_rate    capture_rate    cumulative_capture_rate    gain    cumulative_gain\n",
       "--  -------  --------------------------  -----------------  ------  -----------------  ---------------  --------------------------  --------------  -------------------------  ------  -----------------\n",
       "    1        0.34188                     0.995807           2.925   2.925              1                1                           1               1                          192.5   192.5\n",
       "    2        1                           0.00225495         0       1                  0                0.34188                     0               1                          -100    0"
      ]
     },
     "metadata": {},
     "output_type": "display_data"
    },
    {
     "name": "stdout",
     "output_type": "stream",
     "text": [
      "\n",
      "\n",
      "ModelMetricsBinomial: gbm\n",
      "** Reported on validation data. **\n",
      "\n",
      "MSE: 7.35678657757e-06\n",
      "RMSE: 0.00271233968698\n",
      "LogLoss: 0.00261099681916\n",
      "Mean Per-Class Error: 0.0\n",
      "AUC: 1.0\n",
      "Gini: 1.0\n",
      "Confusion Matrix (Act/Pred) for max f1 @ threshold = 0.995807058056: \n"
     ]
    },
    {
     "data": {
      "text/html": [
       "<div style=\"overflow:auto\"><table style=\"width:50%\"><tr><td><b></b></td>\n",
       "<td><b>0</b></td>\n",
       "<td><b>1</b></td>\n",
       "<td><b>Error</b></td>\n",
       "<td><b>Rate</b></td></tr>\n",
       "<tr><td>0</td>\n",
       "<td>18.0</td>\n",
       "<td>0.0</td>\n",
       "<td>0.0</td>\n",
       "<td> (0.0/18.0)</td></tr>\n",
       "<tr><td>1</td>\n",
       "<td>0.0</td>\n",
       "<td>4.0</td>\n",
       "<td>0.0</td>\n",
       "<td> (0.0/4.0)</td></tr>\n",
       "<tr><td>Total</td>\n",
       "<td>18.0</td>\n",
       "<td>4.0</td>\n",
       "<td>0.0</td>\n",
       "<td> (0.0/22.0)</td></tr></table></div>"
      ],
      "text/plain": [
       "       0    1    Error    Rate\n",
       "-----  ---  ---  -------  ----------\n",
       "0      18   0    0        (0.0/18.0)\n",
       "1      0    4    0        (0.0/4.0)\n",
       "Total  18   4    0        (0.0/22.0)"
      ]
     },
     "metadata": {},
     "output_type": "display_data"
    },
    {
     "name": "stdout",
     "output_type": "stream",
     "text": [
      "Maximum Metrics: Maximum metrics at their respective thresholds\n",
      "\n"
     ]
    },
    {
     "data": {
      "text/html": [
       "<div style=\"overflow:auto\"><table style=\"width:50%\"><tr><td><b>metric</b></td>\n",
       "<td><b>threshold</b></td>\n",
       "<td><b>value</b></td>\n",
       "<td><b>idx</b></td></tr>\n",
       "<tr><td>max f1</td>\n",
       "<td>0.9958071</td>\n",
       "<td>1.0</td>\n",
       "<td>0.0</td></tr>\n",
       "<tr><td>max f2</td>\n",
       "<td>0.9958071</td>\n",
       "<td>1.0</td>\n",
       "<td>0.0</td></tr>\n",
       "<tr><td>max f0point5</td>\n",
       "<td>0.9958071</td>\n",
       "<td>1.0</td>\n",
       "<td>0.0</td></tr>\n",
       "<tr><td>max accuracy</td>\n",
       "<td>0.9958071</td>\n",
       "<td>1.0</td>\n",
       "<td>0.0</td></tr>\n",
       "<tr><td>max precision</td>\n",
       "<td>0.9958071</td>\n",
       "<td>1.0</td>\n",
       "<td>0.0</td></tr>\n",
       "<tr><td>max recall</td>\n",
       "<td>0.9958071</td>\n",
       "<td>1.0</td>\n",
       "<td>0.0</td></tr>\n",
       "<tr><td>max specificity</td>\n",
       "<td>0.9958071</td>\n",
       "<td>1.0</td>\n",
       "<td>0.0</td></tr>\n",
       "<tr><td>max absolute_mcc</td>\n",
       "<td>0.9958071</td>\n",
       "<td>1.0</td>\n",
       "<td>0.0</td></tr>\n",
       "<tr><td>max min_per_class_accuracy</td>\n",
       "<td>0.9958071</td>\n",
       "<td>1.0</td>\n",
       "<td>0.0</td></tr>\n",
       "<tr><td>max mean_per_class_accuracy</td>\n",
       "<td>0.9958071</td>\n",
       "<td>1.0</td>\n",
       "<td>0.0</td></tr></table></div>"
      ],
      "text/plain": [
       "metric                       threshold    value    idx\n",
       "---------------------------  -----------  -------  -----\n",
       "max f1                       0.995807     1        0\n",
       "max f2                       0.995807     1        0\n",
       "max f0point5                 0.995807     1        0\n",
       "max accuracy                 0.995807     1        0\n",
       "max precision                0.995807     1        0\n",
       "max recall                   0.995807     1        0\n",
       "max specificity              0.995807     1        0\n",
       "max absolute_mcc             0.995807     1        0\n",
       "max min_per_class_accuracy   0.995807     1        0\n",
       "max mean_per_class_accuracy  0.995807     1        0"
      ]
     },
     "metadata": {},
     "output_type": "display_data"
    },
    {
     "name": "stdout",
     "output_type": "stream",
     "text": [
      "Gains/Lift Table: Avg response rate: 18.18 %\n",
      "\n"
     ]
    },
    {
     "data": {
      "text/html": [
       "<div style=\"overflow:auto\"><table style=\"width:50%\"><tr><td><b></b></td>\n",
       "<td><b>group</b></td>\n",
       "<td><b>cumulative_data_fraction</b></td>\n",
       "<td><b>lower_threshold</b></td>\n",
       "<td><b>lift</b></td>\n",
       "<td><b>cumulative_lift</b></td>\n",
       "<td><b>response_rate</b></td>\n",
       "<td><b>cumulative_response_rate</b></td>\n",
       "<td><b>capture_rate</b></td>\n",
       "<td><b>cumulative_capture_rate</b></td>\n",
       "<td><b>gain</b></td>\n",
       "<td><b>cumulative_gain</b></td></tr>\n",
       "<tr><td></td>\n",
       "<td>1</td>\n",
       "<td>0.1818182</td>\n",
       "<td>0.9958071</td>\n",
       "<td>5.5</td>\n",
       "<td>5.5</td>\n",
       "<td>1.0</td>\n",
       "<td>1.0</td>\n",
       "<td>1.0</td>\n",
       "<td>1.0</td>\n",
       "<td>450.0</td>\n",
       "<td>450.0</td></tr>\n",
       "<tr><td></td>\n",
       "<td>2</td>\n",
       "<td>0.1818182</td>\n",
       "<td>0.8467742</td>\n",
       "<td>0.0</td>\n",
       "<td>5.5</td>\n",
       "<td>0.0</td>\n",
       "<td>1.0</td>\n",
       "<td>0.0</td>\n",
       "<td>1.0</td>\n",
       "<td>-100.0</td>\n",
       "<td>450.0</td></tr>\n",
       "<tr><td></td>\n",
       "<td>3</td>\n",
       "<td>1.0</td>\n",
       "<td>0.0022549</td>\n",
       "<td>0.0</td>\n",
       "<td>1.0</td>\n",
       "<td>0.0</td>\n",
       "<td>0.1818182</td>\n",
       "<td>0.0</td>\n",
       "<td>1.0</td>\n",
       "<td>-100.0</td>\n",
       "<td>0.0</td></tr></table></div>"
      ],
      "text/plain": [
       "    group    cumulative_data_fraction    lower_threshold    lift    cumulative_lift    response_rate    cumulative_response_rate    capture_rate    cumulative_capture_rate    gain    cumulative_gain\n",
       "--  -------  --------------------------  -----------------  ------  -----------------  ---------------  --------------------------  --------------  -------------------------  ------  -----------------\n",
       "    1        0.181818                    0.995807           5.5     5.5                1                1                           1               1                          450     450\n",
       "    2        0.181818                    0.846774           0       5.5                0                1                           0               1                          -100    450\n",
       "    3        1                           0.00225495         0       1                  0                0.181818                    0               1                          -100    0"
      ]
     },
     "metadata": {},
     "output_type": "display_data"
    },
    {
     "name": "stdout",
     "output_type": "stream",
     "text": [
      "\n",
      "Scoring History: \n"
     ]
    },
    {
     "data": {
      "text/html": [
       "<div style=\"overflow:auto\"><table style=\"width:50%\"><tr><td><b></b></td>\n",
       "<td><b>timestamp</b></td>\n",
       "<td><b>duration</b></td>\n",
       "<td><b>number_of_trees</b></td>\n",
       "<td><b>training_rmse</b></td>\n",
       "<td><b>training_logloss</b></td>\n",
       "<td><b>training_auc</b></td>\n",
       "<td><b>training_lift</b></td>\n",
       "<td><b>training_classification_error</b></td>\n",
       "<td><b>validation_rmse</b></td>\n",
       "<td><b>validation_logloss</b></td>\n",
       "<td><b>validation_auc</b></td>\n",
       "<td><b>validation_lift</b></td>\n",
       "<td><b>validation_classification_error</b></td></tr>\n",
       "<tr><td></td>\n",
       "<td>2018-12-23 22:34:24</td>\n",
       "<td> 0.001 sec</td>\n",
       "<td>0.0</td>\n",
       "<td>0.4743397</td>\n",
       "<td>0.6422748</td>\n",
       "<td>0.5</td>\n",
       "<td>1.0</td>\n",
       "<td>0.6581197</td>\n",
       "<td>0.4175886</td>\n",
       "<td>0.5374460</td>\n",
       "<td>0.5</td>\n",
       "<td>1.0</td>\n",
       "<td>0.8181818</td></tr>\n",
       "<tr><td></td>\n",
       "<td>2018-12-23 22:34:24</td>\n",
       "<td> 0.043 sec</td>\n",
       "<td>1.0</td>\n",
       "<td>0.4260472</td>\n",
       "<td>0.5473389</td>\n",
       "<td>1.0</td>\n",
       "<td>2.925</td>\n",
       "<td>0.0</td>\n",
       "<td>0.3756435</td>\n",
       "<td>0.4638320</td>\n",
       "<td>1.0</td>\n",
       "<td>5.5</td>\n",
       "<td>0.0</td></tr>\n",
       "<tr><td></td>\n",
       "<td>2018-12-23 22:34:25</td>\n",
       "<td> 0.053 sec</td>\n",
       "<td>2.0</td>\n",
       "<td>0.3833846</td>\n",
       "<td>0.4727753</td>\n",
       "<td>1.0</td>\n",
       "<td>2.925</td>\n",
       "<td>0.0</td>\n",
       "<td>0.3383838</td>\n",
       "<td>0.4043099</td>\n",
       "<td>1.0</td>\n",
       "<td>5.5</td>\n",
       "<td>0.0</td></tr>\n",
       "<tr><td></td>\n",
       "<td>2018-12-23 22:34:25</td>\n",
       "<td> 0.062 sec</td>\n",
       "<td>3.0</td>\n",
       "<td>0.3453997</td>\n",
       "<td>0.4120364</td>\n",
       "<td>1.0</td>\n",
       "<td>2.925</td>\n",
       "<td>0.0</td>\n",
       "<td>0.3050946</td>\n",
       "<td>0.3548137</td>\n",
       "<td>1.0</td>\n",
       "<td>5.5</td>\n",
       "<td>0.0</td></tr>\n",
       "<tr><td></td>\n",
       "<td>2018-12-23 22:34:25</td>\n",
       "<td> 0.070 sec</td>\n",
       "<td>4.0</td>\n",
       "<td>0.3114320</td>\n",
       "<td>0.3614177</td>\n",
       "<td>1.0</td>\n",
       "<td>2.925</td>\n",
       "<td>0.0</td>\n",
       "<td>0.2752554</td>\n",
       "<td>0.3129239</td>\n",
       "<td>1.0</td>\n",
       "<td>5.5</td>\n",
       "<td>0.0</td></tr>\n",
       "<tr><td>---</td>\n",
       "<td>---</td>\n",
       "<td>---</td>\n",
       "<td>---</td>\n",
       "<td>---</td>\n",
       "<td>---</td>\n",
       "<td>---</td>\n",
       "<td>---</td>\n",
       "<td>---</td>\n",
       "<td>---</td>\n",
       "<td>---</td>\n",
       "<td>---</td>\n",
       "<td>---</td>\n",
       "<td>---</td></tr>\n",
       "<tr><td></td>\n",
       "<td>2018-12-23 22:34:25</td>\n",
       "<td> 0.341 sec</td>\n",
       "<td>46.0</td>\n",
       "<td>0.0045638</td>\n",
       "<td>0.0043632</td>\n",
       "<td>1.0</td>\n",
       "<td>2.925</td>\n",
       "<td>0.0</td>\n",
       "<td>0.0040467</td>\n",
       "<td>0.0038981</td>\n",
       "<td>1.0</td>\n",
       "<td>5.5</td>\n",
       "<td>0.0</td></tr>\n",
       "<tr><td></td>\n",
       "<td>2018-12-23 22:34:25</td>\n",
       "<td> 0.347 sec</td>\n",
       "<td>47.0</td>\n",
       "<td>0.0041294</td>\n",
       "<td>0.0039470</td>\n",
       "<td>1.0</td>\n",
       "<td>2.925</td>\n",
       "<td>0.0</td>\n",
       "<td>0.0036615</td>\n",
       "<td>0.0035264</td>\n",
       "<td>1.0</td>\n",
       "<td>5.5</td>\n",
       "<td>0.0</td></tr>\n",
       "<tr><td></td>\n",
       "<td>2018-12-23 22:34:25</td>\n",
       "<td> 0.354 sec</td>\n",
       "<td>48.0</td>\n",
       "<td>0.0037363</td>\n",
       "<td>0.0035706</td>\n",
       "<td>1.0</td>\n",
       "<td>2.925</td>\n",
       "<td>0.0</td>\n",
       "<td>0.0033130</td>\n",
       "<td>0.0031902</td>\n",
       "<td>1.0</td>\n",
       "<td>5.5</td>\n",
       "<td>0.0</td></tr>\n",
       "<tr><td></td>\n",
       "<td>2018-12-23 22:34:25</td>\n",
       "<td> 0.360 sec</td>\n",
       "<td>49.0</td>\n",
       "<td>0.0033807</td>\n",
       "<td>0.0032301</td>\n",
       "<td>1.0</td>\n",
       "<td>2.925</td>\n",
       "<td>0.0</td>\n",
       "<td>0.0029976</td>\n",
       "<td>0.0028861</td>\n",
       "<td>1.0</td>\n",
       "<td>5.5</td>\n",
       "<td>0.0</td></tr>\n",
       "<tr><td></td>\n",
       "<td>2018-12-23 22:34:25</td>\n",
       "<td> 0.366 sec</td>\n",
       "<td>50.0</td>\n",
       "<td>0.0030589</td>\n",
       "<td>0.0029222</td>\n",
       "<td>1.0</td>\n",
       "<td>2.925</td>\n",
       "<td>0.0</td>\n",
       "<td>0.0027123</td>\n",
       "<td>0.0026110</td>\n",
       "<td>1.0</td>\n",
       "<td>5.5</td>\n",
       "<td>0.0</td></tr></table></div>"
      ],
      "text/plain": [
       "     timestamp            duration    number_of_trees    training_rmse     training_logloss    training_auc    training_lift    training_classification_error    validation_rmse    validation_logloss    validation_auc    validation_lift    validation_classification_error\n",
       "---  -------------------  ----------  -----------------  ----------------  ------------------  --------------  ---------------  -------------------------------  -----------------  --------------------  ----------------  -----------------  ---------------------------------\n",
       "     2018-12-23 22:34:24  0.001 sec   0.0                0.474339723949    0.642274826701      0.5             1.0              0.65811965812                    0.41758858421      0.537445961624        0.5               1.0                0.818181818182\n",
       "     2018-12-23 22:34:24  0.043 sec   1.0                0.426047215515    0.547338881637      1.0             2.925            0.0                              0.375643478305     0.463831967033        1.0               5.5                0.0\n",
       "     2018-12-23 22:34:25  0.053 sec   2.0                0.383384566816    0.472775330031      1.0             2.925            0.0                              0.338383829211     0.404309931536        1.0               5.5                0.0\n",
       "     2018-12-23 22:34:25  0.062 sec   3.0                0.34539970835     0.412036437222      1.0             2.925            0.0                              0.305094608045     0.354813697602        1.0               5.5                0.0\n",
       "     2018-12-23 22:34:25  0.070 sec   4.0                0.311432039835    0.361417727538      1.0             2.925            0.0                              0.275255391674     0.312923932153        1.0               5.5                0.0\n",
       "---  ---                  ---         ---                ---               ---                 ---             ---              ---                              ---                ---                   ---               ---                ---\n",
       "     2018-12-23 22:34:25  0.341 sec   46.0               0.00456375562039  0.00436321426426    1.0             2.925            0.0                              0.00404665008581   0.00389813920974      1.0               5.5                0.0\n",
       "     2018-12-23 22:34:25  0.347 sec   47.0               0.00412935250658  0.00394700520469    1.0             2.925            0.0                              0.0036614781527    0.00352640073221      1.0               5.5                0.0\n",
       "     2018-12-23 22:34:25  0.354 sec   48.0               0.00373630652282  0.00357058371264    1.0             2.925            0.0                              0.00331297511479   0.00319017990491      1.0               5.5                0.0\n",
       "     2018-12-23 22:34:25  0.360 sec   49.0               0.00338067972037  0.00323013199117    1.0             2.925            0.0                              0.0029976487636    0.00288607093186      1.0               5.5                0.0\n",
       "     2018-12-23 22:34:25  0.366 sec   50.0               0.00305890768213  0.00292219919851    1.0             2.925            0.0                              0.00271233968698   0.00261099681916      1.0               5.5                0.0"
      ]
     },
     "metadata": {},
     "output_type": "display_data"
    },
    {
     "name": "stdout",
     "output_type": "stream",
     "text": [
      "\n",
      "See the whole table with table.as_data_frame()\n",
      "Variable Importances: \n"
     ]
    },
    {
     "data": {
      "text/html": [
       "<div style=\"overflow:auto\"><table style=\"width:50%\"><tr><td><b>variable</b></td>\n",
       "<td><b>relative_importance</b></td>\n",
       "<td><b>scaled_importance</b></td>\n",
       "<td><b>percentage</b></td></tr>\n",
       "<tr><td>petal length (cm)</td>\n",
       "<td>131.0551147</td>\n",
       "<td>1.0</td>\n",
       "<td>0.9340675</td></tr>\n",
       "<tr><td>petal width (cm)</td>\n",
       "<td>9.2507114</td>\n",
       "<td>0.0705864</td>\n",
       "<td>0.0659325</td></tr>\n",
       "<tr><td>sepal length (cm)</td>\n",
       "<td>0.0</td>\n",
       "<td>0.0</td>\n",
       "<td>0.0</td></tr>\n",
       "<tr><td>sepal width (cm)</td>\n",
       "<td>0.0</td>\n",
       "<td>0.0</td>\n",
       "<td>0.0</td></tr></table></div>"
      ],
      "text/plain": [
       "variable           relative_importance    scaled_importance    percentage\n",
       "-----------------  ---------------------  -------------------  ------------\n",
       "petal length (cm)  131.055                1                    0.934068\n",
       "petal width (cm)   9.25071                0.0705864            0.0659325\n",
       "sepal length (cm)  0                      0                    0\n",
       "sepal width (cm)   0                      0                    0"
      ]
     },
     "metadata": {},
     "output_type": "display_data"
    },
    {
     "name": "stdout",
     "output_type": "stream",
     "text": [
      "\n"
     ]
    }
   ],
   "source": [
    "print model"
   ]
  },
  {
   "cell_type": "code",
   "execution_count": 120,
   "metadata": {},
   "outputs": [
    {
     "data": {
      "text/plain": [
       "[u'sepal length (cm)',\n",
       " u'sepal width (cm)',\n",
       " u'petal length (cm)',\n",
       " u'petal width (cm)']"
      ]
     },
     "execution_count": 120,
     "metadata": {},
     "output_type": "execute_result"
    }
   ],
   "source": [
    "x"
   ]
  },
  {
   "cell_type": "code",
   "execution_count": 134,
   "metadata": {},
   "outputs": [
    {
     "name": "stdout",
     "output_type": "stream",
     "text": [
      "gbm prediction progress: |████████████████████████████████████████████████| 100%\n"
     ]
    },
    {
     "data": {
      "text/html": [
       "<table>\n",
       "<thead>\n",
       "<tr><th style=\"text-align: right;\">  predict</th><th style=\"text-align: right;\">        p0</th><th style=\"text-align: right;\">        p1</th></tr>\n",
       "</thead>\n",
       "<tbody>\n",
       "<tr><td style=\"text-align: right;\">        1</td><td style=\"text-align: right;\">0.00419294</td><td style=\"text-align: right;\">0.995807  </td></tr>\n",
       "<tr><td style=\"text-align: right;\">        1</td><td style=\"text-align: right;\">0.00419294</td><td style=\"text-align: right;\">0.995807  </td></tr>\n",
       "<tr><td style=\"text-align: right;\">        1</td><td style=\"text-align: right;\">0.00419294</td><td style=\"text-align: right;\">0.995807  </td></tr>\n",
       "<tr><td style=\"text-align: right;\">        1</td><td style=\"text-align: right;\">0.00419294</td><td style=\"text-align: right;\">0.995807  </td></tr>\n",
       "<tr><td style=\"text-align: right;\">        1</td><td style=\"text-align: right;\">0.00419294</td><td style=\"text-align: right;\">0.995807  </td></tr>\n",
       "<tr><td style=\"text-align: right;\">        1</td><td style=\"text-align: right;\">0.00419294</td><td style=\"text-align: right;\">0.995807  </td></tr>\n",
       "<tr><td style=\"text-align: right;\">        0</td><td style=\"text-align: right;\">0.997745  </td><td style=\"text-align: right;\">0.00225495</td></tr>\n",
       "<tr><td style=\"text-align: right;\">        0</td><td style=\"text-align: right;\">0.997745  </td><td style=\"text-align: right;\">0.00225495</td></tr>\n",
       "<tr><td style=\"text-align: right;\">        0</td><td style=\"text-align: right;\">0.997745  </td><td style=\"text-align: right;\">0.00225495</td></tr>\n",
       "<tr><td style=\"text-align: right;\">        0</td><td style=\"text-align: right;\">0.997745  </td><td style=\"text-align: right;\">0.00225495</td></tr>\n",
       "</tbody>\n",
       "</table>"
      ]
     },
     "metadata": {},
     "output_type": "display_data"
    },
    {
     "data": {
      "text/html": [
       "<table>\n",
       "<thead>\n",
       "<tr><th style=\"text-align: right;\">  sepal length (cm)</th><th style=\"text-align: right;\">  sepal width (cm)</th><th style=\"text-align: right;\">  petal length (cm)</th><th style=\"text-align: right;\">  petal width (cm)</th><th style=\"text-align: right;\">  Target1</th></tr>\n",
       "</thead>\n",
       "<tbody>\n",
       "<tr><td style=\"text-align: right;\">                5.7</td><td style=\"text-align: right;\">               4.4</td><td style=\"text-align: right;\">                1.5</td><td style=\"text-align: right;\">               0.4</td><td style=\"text-align: right;\">        1</td></tr>\n",
       "<tr><td style=\"text-align: right;\">                5.7</td><td style=\"text-align: right;\">               3.8</td><td style=\"text-align: right;\">                1.7</td><td style=\"text-align: right;\">               0.3</td><td style=\"text-align: right;\">        1</td></tr>\n",
       "<tr><td style=\"text-align: right;\">                5.4</td><td style=\"text-align: right;\">               3.4</td><td style=\"text-align: right;\">                1.7</td><td style=\"text-align: right;\">               0.2</td><td style=\"text-align: right;\">        1</td></tr>\n",
       "<tr><td style=\"text-align: right;\">                4.7</td><td style=\"text-align: right;\">               3.2</td><td style=\"text-align: right;\">                1.6</td><td style=\"text-align: right;\">               0.2</td><td style=\"text-align: right;\">        1</td></tr>\n",
       "<tr><td style=\"text-align: right;\">                4.8</td><td style=\"text-align: right;\">               3.1</td><td style=\"text-align: right;\">                1.6</td><td style=\"text-align: right;\">               0.2</td><td style=\"text-align: right;\">        1</td></tr>\n",
       "<tr><td style=\"text-align: right;\">                5.1</td><td style=\"text-align: right;\">               3.8</td><td style=\"text-align: right;\">                1.9</td><td style=\"text-align: right;\">               0.4</td><td style=\"text-align: right;\">        1</td></tr>\n",
       "<tr><td style=\"text-align: right;\">                5.5</td><td style=\"text-align: right;\">               2.3</td><td style=\"text-align: right;\">                4  </td><td style=\"text-align: right;\">               1.3</td><td style=\"text-align: right;\">        0</td></tr>\n",
       "<tr><td style=\"text-align: right;\">                6  </td><td style=\"text-align: right;\">               2.7</td><td style=\"text-align: right;\">                5.1</td><td style=\"text-align: right;\">               1.6</td><td style=\"text-align: right;\">        0</td></tr>\n",
       "<tr><td style=\"text-align: right;\">                5.5</td><td style=\"text-align: right;\">               2.5</td><td style=\"text-align: right;\">                4  </td><td style=\"text-align: right;\">               1.3</td><td style=\"text-align: right;\">        0</td></tr>\n",
       "<tr><td style=\"text-align: right;\">                5.8</td><td style=\"text-align: right;\">               2.6</td><td style=\"text-align: right;\">                4  </td><td style=\"text-align: right;\">               1.2</td><td style=\"text-align: right;\">        0</td></tr>\n",
       "</tbody>\n",
       "</table>"
      ]
     },
     "metadata": {},
     "output_type": "display_data"
    },
    {
     "data": {
      "text/plain": [
       "(, )"
      ]
     },
     "execution_count": 134,
     "metadata": {},
     "output_type": "execute_result"
    }
   ],
   "source": [
    "model.predict(test),test"
   ]
  },
  {
   "cell_type": "code",
   "execution_count": 128,
   "metadata": {},
   "outputs": [],
   "source": [
    "h2oframe['Target1']=h2oframe['Target1'].asfactor()"
   ]
  },
  {
   "cell_type": "code",
   "execution_count": 137,
   "metadata": {},
   "outputs": [
    {
     "name": "stdout",
     "output_type": "stream",
     "text": [
      "\n",
      "ModelMetricsBinomial: gbm\n",
      "** Reported on test data. **\n",
      "\n",
      "MSE: 1.19007757182e-05\n",
      "RMSE: 0.00344975009503\n",
      "LogLoss: 0.00331800133246\n",
      "Mean Per-Class Error: 0.0\n",
      "AUC: 1.0\n",
      "Gini: 1.0\n",
      "Confusion Matrix (Act/Pred) for max f1 @ threshold = 0.995807058056: \n"
     ]
    },
    {
     "data": {
      "text/html": [
       "<div style=\"overflow:auto\"><table style=\"width:50%\"><tr><td><b></b></td>\n",
       "<td><b>0</b></td>\n",
       "<td><b>1</b></td>\n",
       "<td><b>Error</b></td>\n",
       "<td><b>Rate</b></td></tr>\n",
       "<tr><td>0</td>\n",
       "<td>5.0</td>\n",
       "<td>0.0</td>\n",
       "<td>0.0</td>\n",
       "<td> (0.0/5.0)</td></tr>\n",
       "<tr><td>1</td>\n",
       "<td>0.0</td>\n",
       "<td>6.0</td>\n",
       "<td>0.0</td>\n",
       "<td> (0.0/6.0)</td></tr>\n",
       "<tr><td>Total</td>\n",
       "<td>5.0</td>\n",
       "<td>6.0</td>\n",
       "<td>0.0</td>\n",
       "<td> (0.0/11.0)</td></tr></table></div>"
      ],
      "text/plain": [
       "       0    1    Error    Rate\n",
       "-----  ---  ---  -------  ----------\n",
       "0      5    0    0        (0.0/5.0)\n",
       "1      0    6    0        (0.0/6.0)\n",
       "Total  5    6    0        (0.0/11.0)"
      ]
     },
     "metadata": {},
     "output_type": "display_data"
    },
    {
     "name": "stdout",
     "output_type": "stream",
     "text": [
      "Maximum Metrics: Maximum metrics at their respective thresholds\n",
      "\n"
     ]
    },
    {
     "data": {
      "text/html": [
       "<div style=\"overflow:auto\"><table style=\"width:50%\"><tr><td><b>metric</b></td>\n",
       "<td><b>threshold</b></td>\n",
       "<td><b>value</b></td>\n",
       "<td><b>idx</b></td></tr>\n",
       "<tr><td>max f1</td>\n",
       "<td>0.9958071</td>\n",
       "<td>1.0</td>\n",
       "<td>0.0</td></tr>\n",
       "<tr><td>max f2</td>\n",
       "<td>0.9958071</td>\n",
       "<td>1.0</td>\n",
       "<td>0.0</td></tr>\n",
       "<tr><td>max f0point5</td>\n",
       "<td>0.9958071</td>\n",
       "<td>1.0</td>\n",
       "<td>0.0</td></tr>\n",
       "<tr><td>max accuracy</td>\n",
       "<td>0.9958071</td>\n",
       "<td>1.0</td>\n",
       "<td>0.0</td></tr>\n",
       "<tr><td>max precision</td>\n",
       "<td>0.9958071</td>\n",
       "<td>1.0</td>\n",
       "<td>0.0</td></tr>\n",
       "<tr><td>max recall</td>\n",
       "<td>0.9958071</td>\n",
       "<td>1.0</td>\n",
       "<td>0.0</td></tr>\n",
       "<tr><td>max specificity</td>\n",
       "<td>0.9958071</td>\n",
       "<td>1.0</td>\n",
       "<td>0.0</td></tr>\n",
       "<tr><td>max absolute_mcc</td>\n",
       "<td>0.9958071</td>\n",
       "<td>1.0</td>\n",
       "<td>0.0</td></tr>\n",
       "<tr><td>max min_per_class_accuracy</td>\n",
       "<td>0.9958071</td>\n",
       "<td>1.0</td>\n",
       "<td>0.0</td></tr>\n",
       "<tr><td>max mean_per_class_accuracy</td>\n",
       "<td>0.9958071</td>\n",
       "<td>1.0</td>\n",
       "<td>0.0</td></tr></table></div>"
      ],
      "text/plain": [
       "metric                       threshold    value    idx\n",
       "---------------------------  -----------  -------  -----\n",
       "max f1                       0.995807     1        0\n",
       "max f2                       0.995807     1        0\n",
       "max f0point5                 0.995807     1        0\n",
       "max accuracy                 0.995807     1        0\n",
       "max precision                0.995807     1        0\n",
       "max recall                   0.995807     1        0\n",
       "max specificity              0.995807     1        0\n",
       "max absolute_mcc             0.995807     1        0\n",
       "max min_per_class_accuracy   0.995807     1        0\n",
       "max mean_per_class_accuracy  0.995807     1        0"
      ]
     },
     "metadata": {},
     "output_type": "display_data"
    },
    {
     "name": "stdout",
     "output_type": "stream",
     "text": [
      "Gains/Lift Table: Avg response rate: 54.55 %\n",
      "\n"
     ]
    },
    {
     "data": {
      "text/html": [
       "<div style=\"overflow:auto\"><table style=\"width:50%\"><tr><td><b></b></td>\n",
       "<td><b>group</b></td>\n",
       "<td><b>cumulative_data_fraction</b></td>\n",
       "<td><b>lower_threshold</b></td>\n",
       "<td><b>lift</b></td>\n",
       "<td><b>cumulative_lift</b></td>\n",
       "<td><b>response_rate</b></td>\n",
       "<td><b>cumulative_response_rate</b></td>\n",
       "<td><b>capture_rate</b></td>\n",
       "<td><b>cumulative_capture_rate</b></td>\n",
       "<td><b>gain</b></td>\n",
       "<td><b>cumulative_gain</b></td></tr>\n",
       "<tr><td></td>\n",
       "<td>1</td>\n",
       "<td>0.5454545</td>\n",
       "<td>0.9958071</td>\n",
       "<td>1.8333333</td>\n",
       "<td>1.8333333</td>\n",
       "<td>1.0</td>\n",
       "<td>1.0</td>\n",
       "<td>1.0</td>\n",
       "<td>1.0</td>\n",
       "<td>83.3333333</td>\n",
       "<td>83.3333333</td></tr>\n",
       "<tr><td></td>\n",
       "<td>2</td>\n",
       "<td>1.0</td>\n",
       "<td>0.0022549</td>\n",
       "<td>0.0</td>\n",
       "<td>1.0</td>\n",
       "<td>0.0</td>\n",
       "<td>0.5454545</td>\n",
       "<td>0.0</td>\n",
       "<td>1.0</td>\n",
       "<td>-100.0</td>\n",
       "<td>0.0</td></tr></table></div>"
      ],
      "text/plain": [
       "    group    cumulative_data_fraction    lower_threshold    lift     cumulative_lift    response_rate    cumulative_response_rate    capture_rate    cumulative_capture_rate    gain     cumulative_gain\n",
       "--  -------  --------------------------  -----------------  -------  -----------------  ---------------  --------------------------  --------------  -------------------------  -------  -----------------\n",
       "    1        0.545455                    0.995807           1.83333  1.83333            1                1                           1               1                          83.3333  83.3333\n",
       "    2        1                           0.00225495         0        1                  0                0.545455                    0               1                          -100     0"
      ]
     },
     "metadata": {},
     "output_type": "display_data"
    },
    {
     "name": "stdout",
     "output_type": "stream",
     "text": [
      "\n"
     ]
    },
    {
     "data": {
      "text/plain": []
     },
     "execution_count": 137,
     "metadata": {},
     "output_type": "execute_result"
    }
   ],
   "source": [
    "model.model_performance(test)"
   ]
  },
  {
   "cell_type": "code",
   "execution_count": null,
   "metadata": {},
   "outputs": [],
   "source": []
  }
 ],
 "metadata": {
  "kernelspec": {
   "display_name": "Python 2",
   "language": "python",
   "name": "python2"
  },
  "language_info": {
   "codemirror_mode": {
    "name": "ipython",
    "version": 2
   },
   "file_extension": ".py",
   "mimetype": "text/x-python",
   "name": "python",
   "nbconvert_exporter": "python",
   "pygments_lexer": "ipython2",
   "version": "2.7.15"
  }
 },
 "nbformat": 4,
 "nbformat_minor": 2
}
